{
  "nbformat": 4,
  "nbformat_minor": 0,
  "metadata": {
    "accelerator": "GPU",
    "colab": {
      "name": "Build_Object_Detection_App_TF1.ipynb",
      "provenance": [],
      "collapsed_sections": [],
      "machine_shape": "hm",
      "include_colab_link": true
    },
    "kernelspec": {
      "display_name": "Python 3",
      "name": "python3"
    }
  },
  "cells": [
    {
      "cell_type": "markdown",
      "metadata": {
        "id": "view-in-github",
        "colab_type": "text"
      },
      "source": [
        "<a href=\"https://colab.research.google.com/github/Aadhityaa-Clar/Object_detection_app/blob/main/Build_Object_Detection_App_TF1.ipynb\" target=\"_parent\"><img src=\"https://colab.research.google.com/assets/colab-badge.svg\" alt=\"Open In Colab\"/></a>"
      ]
    },
    {
      "cell_type": "markdown",
      "source": [
        "![picture](https://clarbloc.com/wp-content/uploads/2021/09/clar-logo-4.jpg)"
      ],
      "metadata": {
        "id": "PCKo-u2GpqrZ"
      }
    },
    {
      "cell_type": "markdown",
      "source": [
        "\n",
        "\n",
        "-------\n",
        "\n",
        "\n",
        "\n",
        "\n",
        "\n"
      ],
      "metadata": {
        "id": "B7d9DQKzq2CF"
      }
    },
    {
      "cell_type": "markdown",
      "metadata": {
        "id": "60K2JtUW5xAL"
      },
      "source": [
        "# **Build Object Detection App (TensorFlow 1.x)**\n",
        "**TRAIN AN OBJECT DETECTION MODEL FOR A CUSTOM DATASET AND CONVERT IT TO TFLITE MODEL FOR ANDROID / iOS / IoT DEVICES (TensorFlow 1.x)**\n",
        "\n",
        "\n"
      ]
    },
    {
      "cell_type": "markdown",
      "metadata": {
        "id": "ORo9oGPiA8k7"
      },
      "source": [
        "## **ROADMAP**\n",
        "\n",
        "\n",
        "* Collect the dataset of images and label them to get their xml files.\n",
        "\n",
        "* Install the TensorFlow Object Detection API.\n",
        "\n",
        "* Generate the TFRecord files required for training. (need generate_tfrecord.py script and csv files for this)\n",
        "\n",
        "* Edit the model pipeline config file and download the pre-trained model checkpoint.\n",
        "\n",
        "* Train and evaluate the model.\n",
        "\n",
        "* Export and convert the model into TFlite(TensorFlow Lite) format.\n",
        "\n",
        "* Deploy the TFlite model on Android.\n",
        "\n",
        "\n",
        "\n",
        "\n",
        "\n"
      ]
    },
    {
      "cell_type": "markdown",
      "metadata": {
        "id": "fkMN55KRzCxB"
      },
      "source": [
        "# **1) Install tensorflow 1.x**\n"
      ]
    },
    {
      "cell_type": "code",
      "metadata": {
        "id": "gKiu6MPl1Xi9",
        "colab": {
          "base_uri": "https://localhost:8080/"
        },
        "outputId": "9bbcafca-24da-46d1-9b37-72f8e93a79e8"
      },
      "source": [
        "!pip install tensorflow==1.15\n"
      ],
      "execution_count": 1,
      "outputs": [
        {
          "output_type": "stream",
          "name": "stdout",
          "text": [
            "Looking in indexes: https://pypi.org/simple, https://us-python.pkg.dev/colab-wheels/public/simple/\n",
            "Collecting tensorflow==1.15\n",
            "  Downloading tensorflow-1.15.0-cp37-cp37m-manylinux2010_x86_64.whl (412.3 MB)\n",
            "\u001b[K     |████████████████████████████████| 411.3 MB 2.0 MB/s eta 0:00:01\n",
            "\u001b[31mERROR: Operation cancelled by user\u001b[0m\n",
            "\u001b[?25h"
          ]
        }
      ]
    },
    {
      "cell_type": "code",
      "metadata": {
        "id": "1uOXZ3Ojn0rD"
      },
      "source": [
        "import tensorflow as tf\n",
        "print(tf.__version__)"
      ],
      "execution_count": null,
      "outputs": []
    },
    {
      "cell_type": "markdown",
      "metadata": {
        "id": "pjfRnVN12JWF"
      },
      "source": [
        "# **2) Import dependencies**"
      ]
    },
    {
      "cell_type": "code",
      "metadata": {
        "id": "CwoREwF6Jxdy"
      },
      "source": [
        "import os\n",
        "import glob\n",
        "import xml.etree.ElementTree as ET\n",
        "import pandas as pd"
      ],
      "execution_count": null,
      "outputs": []
    },
    {
      "cell_type": "markdown",
      "metadata": {
        "id": "92GABWQa1eYT"
      },
      "source": [
        "# **3) Create *`customTF1`*, *`training`* and *`data`* folders in your google drive**\n",
        "Create a folder named ***customTF1*** in your google drive.\n",
        "\n",
        "Create another folder named ***training*** inside the ***customTF1*** folder\n",
        "(***training*** folder is where the checkpoints will be saved during training)\n",
        "\n",
        "Create another folder named ***data*** inside the ***customTF1*** folder.\n"
      ]
    },
    {
      "cell_type": "markdown",
      "metadata": {
        "id": "ca4Hv2sT4lt-"
      },
      "source": [
        "# **4) Create and upload your image files and xml files.**\n",
        " Create a folder named ***images*** for your custom dataset images and create another folder named ***annotations*** for its corresponding xml files.\n",
        " \n",
        " Next, create their zip files and upload them to the ***customTF1*** folder in your drive.\n",
        "\n",
        "\n",
        "\n",
        " **<ins>NOTE</ins>**: Make sure all the image files have extension as \".jpg\" only.\n",
        " Other formats like \".png\" , \".jpeg\" or even \".JPG\" will give errors since the generate_tfrecord and xml_to_csv scripts here have only \".jpg\" in them\n",
        "\n",
        "\n",
        "\n",
        "\n"
      ]
    },
    {
      "cell_type": "markdown",
      "metadata": {
        "id": "WxBrfO3L50Uy"
      },
      "source": [
        " ## **Collecting Images Dataset and labeling them to get their PASCAL_VOC XML annotations**\n",
        "You can use any software for labeling like the labelImg tool. [here](https://github.com/tzutalin/labelImg)\n",
        "All the data's \n",
        "are given in detail in this reposetory. \n"
      ]
    },
    {
      "cell_type": "markdown",
      "metadata": {
        "id": "Aim4H4sD3Pym"
      },
      "source": [
        "# **5) Upload the *`generate_tfrecord.py`* file to the *`customTF1`* folder on your drive.**\n",
        "\n",
        "\n",
        "You can find the generate_tfrecord.py file [here](https://drive.google.com/file/d/1hM3GQD15v63UTE7DkpyQVqkGCdKK8p87/view?usp=sharing)"
      ]
    },
    {
      "cell_type": "markdown",
      "metadata": {
        "id": "OLsPGJiuxRrK"
      },
      "source": [
        "#**6) Mount drive and link your folder**"
      ]
    },
    {
      "cell_type": "code",
      "metadata": {
        "id": "RhZoiRBoqnju"
      },
      "source": [
        "#mount drive\n",
        "from google.colab import drive\n",
        "drive.mount('/content/gdrive')\n",
        "\n",
        "# this creates a symbolic link so that now the path /content/gdrive/My\\ Drive/ is equal to /mydrive\n",
        "!ln -s /content/gdrive/My\\ Drive/ /mydrive\n",
        "\n",
        "#list contents in your drive\n",
        "!ls /mydrive"
      ],
      "execution_count": null,
      "outputs": []
    },
    {
      "cell_type": "markdown",
      "metadata": {
        "id": "0tWHcoAF9f6K"
      },
      "source": [
        "# **7) Clone the TensorFlow models git repository & Install TensorFlow Object Detection API**\n",
        "\n",
        "\n",
        "\n"
      ]
    },
    {
      "cell_type": "code",
      "metadata": {
        "id": "Iv3C8-s0koQU"
      },
      "source": [
        "# clone the tensorflow models on the colab cloud vm\n",
        "!git clone --q https://github.com/tensorflow/models.git\n",
        "\n",
        "#navigate to /models/research folder to compile protos\n",
        "%cd models/research\n",
        "\n",
        "# Compile protos.\n",
        "!protoc object_detection/protos/*.proto --python_out=.\n",
        "\n",
        "# Install TensorFlow Object Detection API.\n",
        "!cp object_detection/packages/tf1/setup.py .  \n",
        "!python -m pip install .\n"
      ],
      "execution_count": null,
      "outputs": []
    },
    {
      "cell_type": "markdown",
      "metadata": {
        "id": "9D1UNW7c9O-I"
      },
      "source": [
        "# **8) Test the model builder**\n"
      ]
    },
    {
      "cell_type": "code",
      "metadata": {
        "id": "St1r_0-w9jqI"
      },
      "source": [
        "# testing the model builder\n",
        "!python object_detection/builders/model_builder_tf1_test.py"
      ],
      "execution_count": null,
      "outputs": []
    },
    {
      "cell_type": "markdown",
      "metadata": {
        "id": "SrNF9Lnw_m7O"
      },
      "source": [
        "# **9) Navigate to *`/mydrive/customTF1/data/`* and unzip the *`images.zip`* and *`annotations.zip`* files into the *`data`* folder**\n",
        "\n"
      ]
    },
    {
      "cell_type": "code",
      "metadata": {
        "id": "m1UT5_rrTw6e"
      },
      "source": [
        "%cd /mydrive/customTF1/data/\n",
        "\n",
        "# unzip the datasets and their contents so that they are now in /mydrive/customTF1/data/ folder\n",
        "!unzip /mydrive/customTF1/images.zip -d .\n",
        "!unzip /mydrive/customTF1/annotations.zip -d ."
      ],
      "execution_count": null,
      "outputs": []
    },
    {
      "cell_type": "markdown",
      "metadata": {
        "id": "fYUW7UZejKFb"
      },
      "source": [
        "# **10) Create `test_labels` & `train_labels`**\n",
        "Current working directory is /mydrive/customTF1/data/\n",
        "\n",
        "Divide annotations into test_labels(20%) and train_labels(80%)."
      ]
    },
    {
      "cell_type": "code",
      "metadata": {
        "id": "AoyMt_vssl1j"
      },
      "source": [
        "#creating two dir for training and testing\n",
        "!mkdir test_labels train_labels\n",
        "\n",
        "# lists the files inside 'annotations' in a random order (not really random, by their hash value instead)\n",
        "# Moves the first 274/1370 labels (20% of the labels) to the testing dir: `test_labels`\n",
        "!ls annotations/* | sort -R | head -274 | xargs -I{} mv {} test_labels/\n",
        "\n",
        "\n",
        "# Moves the rest of the labels ( 1096 labels ) to the training dir: `train_labels`\n",
        "!ls annotations/* | xargs -I{} mv {} train_labels/\n"
      ],
      "execution_count": null,
      "outputs": []
    },
    {
      "cell_type": "markdown",
      "metadata": {
        "id": "rxebwp0Qamb_"
      },
      "source": [
        "![download (12).png](data:image/png;base64,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)"
      ]
    },
    {
      "cell_type": "markdown",
      "metadata": {
        "id": "vH67M2M12s3n"
      },
      "source": [
        "# **11) Create the CSV files and the \"label_map.pbtxt\" file**\n",
        "Current working directory is /mydrive/customTF1/data/\n",
        "\n",
        "Run xml_to_csv script below to create ***test_labels.csv*** and ***train_labels.csv***\n",
        "\n",
        "This also creates the ***label_map.pbtxt*** file using the classes mentioned in the xml files. "
      ]
    },
    {
      "cell_type": "code",
      "metadata": {
        "id": "VyGisGxK4ag0"
      },
      "source": [
        "#adjusted from: https://github.com/datitran/raccoon_dataset\n",
        "def xml_to_csv(path):\n",
        "  classes_names = []\n",
        "  xml_list = []\n",
        "\n",
        "  for xml_file in glob.glob(path + '/*.xml'):\n",
        "    tree = ET.parse(xml_file)\n",
        "    root = tree.getroot()\n",
        "    for member in root.findall('object'):\n",
        "      classes_names.append(member[0].text)\n",
        "      value = (root.find('filename').text  ,       \n",
        "               int(root.find('size')[0].text),\n",
        "               int(root.find('size')[1].text),\n",
        "               member[0].text,\n",
        "               int(member[4][0].text),\n",
        "               int(member[4][1].text),\n",
        "               int(member[4][2].text),\n",
        "               int(member[4][3].text))\n",
        "      xml_list.append(value)\n",
        "  column_name = ['filename', 'width', 'height', 'class', 'xmin', 'ymin', 'xmax', 'ymax']\n",
        "  xml_df = pd.DataFrame(xml_list, columns=column_name) \n",
        "  classes_names = list(set(classes_names))\n",
        "  classes_names.sort()\n",
        "  return xml_df, classes_names\n",
        "\n",
        "for label_path in ['train_labels', 'test_labels']:\n",
        "  image_path = os.path.join(os.getcwd(), label_path)\n",
        "  xml_df, classes = xml_to_csv(label_path)\n",
        "  xml_df.to_csv(f'{label_path}.csv', index=None)\n",
        "  print(f'Successfully converted {label_path} xml to csv.')\n",
        "\n",
        "label_map_path = os.path.join(\"label_map.pbtxt\")\n",
        "pbtxt_content = \"\"\n",
        "\n",
        "for i, class_name in enumerate(classes):\n",
        "    pbtxt_content = (\n",
        "        pbtxt_content\n",
        "        + \"item {{\\n    id: {0}\\n    name: '{1}'\\n}}\\n\\n\".format(i + 1, class_name)\n",
        "    )\n",
        "pbtxt_content = pbtxt_content.strip()\n",
        "with open(label_map_path, \"w\") as f:\n",
        "    f.write(pbtxt_content)\n",
        "    print('Successfully created label_map.pbtxt ')"
      ],
      "execution_count": null,
      "outputs": []
    },
    {
      "cell_type": "markdown",
      "metadata": {
        "id": "tblFU-i495qr"
      },
      "source": [
        "# **12) Create `train.record` & `test.record` files**\n",
        "\n",
        "Current working directory is /mydrive/customTF1/data/\n",
        "\n",
        "Run the *generate_tfrecord.py* script to create *train.record* and *test.record* files\n",
        "\n"
      ]
    },
    {
      "cell_type": "code",
      "metadata": {
        "id": "0OH02x-8qzdp"
      },
      "source": [
        "%cd /mydrive/customTF1/data/"
      ],
      "execution_count": null,
      "outputs": []
    },
    {
      "cell_type": "code",
      "metadata": {
        "id": "kHGo0lCflP4P"
      },
      "source": [
        "#Usage:  \n",
        "#!python generate_tfrecord.py output.csv output_pb.txt /path/to/images output.tfrecords\n",
        "\n",
        "#FOR train.record\n",
        "!python /mydrive/customTF1/generate_tfrecord.py train_labels.csv  label_map.pbtxt images/ train.record\n",
        "\n",
        "#FOR test.record\n",
        "!python /mydrive/customTF1/generate_tfrecord.py test_labels.csv  label_map.pbtxt images/ test.record"
      ],
      "execution_count": null,
      "outputs": []
    },
    {
      "cell_type": "markdown",
      "metadata": {
        "id": "nwWh49ClaBeD"
      },
      "source": [
        "# **13) Download pre-trained model checkpoint** \n",
        "\n",
        "Current working directory is /mydrive/customTF1/data/\n",
        "\n",
        "Download **ssd_mobilenet_v2_coco_2018_03_29.tar.gz** into the ***data*** folder & unzip it.\n",
        "\n",
        "A list of detection checkpoints for tensorflow 1.x can be found [here](https://github.com/tensorflow/models/blob/master/research/object_detection/g3doc/tf1_detection_zoo.md).\n"
      ]
    },
    {
      "cell_type": "code",
      "metadata": {
        "id": "obEW7RNEcowc"
      },
      "source": [
        "#Download the pre-trained model ssd_mobilenet_v2_coco_2018_03_29.tar.gz into the data folder & unzip it.\n",
        "\n",
        "!wget http://download.tensorflow.org/models/object_detection/ssd_mobilenet_v2_coco_2018_03_29.tar.gz\n",
        "!tar -xzvf ssd_mobilenet_v2_coco_2018_03_29.tar.gz"
      ],
      "execution_count": null,
      "outputs": []
    },
    {
      "cell_type": "markdown",
      "metadata": {
        "id": "XS-xqg02X9Ro"
      },
      "source": [
        "# **14) Get the model pipeline `config` file, make changes to it and put it inside the *`data`* folder**\n",
        "\n",
        "Download **ssd_mobilenet_v2_coco.config** from ***/content/models/research/object_detection/samples/configs/*** folder. Make the required changes to it and upload it to the ***/mydrive/customTF1/data*** folder.\n",
        "\n",
        "**OR**\n",
        "\n",
        "Edit the config file from ***/content/models/research/object_detection/samples/configs/*** in colab and copy the edited config file to the ***/mydrive/customTF1/data*** folder.\n",
        "\n",
        "You can also find the pipeline config file inside the model checkpoint folder we just downloaded in the previous step.\n",
        "\n",
        "\n",
        "**You need to make the following changes:**\n",
        "*   change ***num_classes*** to number of your classes.\n",
        "*   change ***test.record*** path, ***train.record*** path & ***labelmap*** path to the paths where you have created these files (paths should be relative to your current working directory while training).\n",
        "* change ***fine_tune_checkpoint*** to the path where the downloaded checkpoint from step 13 is. \n",
        "* change ***fine_tune_checkpoint_type*** with value **classification** or **detection** depending on the type.\n",
        "* change ***batch_size*** to any multiple of 8 depending upon the capability of your GPU.\n",
        "(eg:- 24,128,...,512).Mine is set to 24. \n",
        "* change ***num_steps*** to number of steps you want the detector to train. \n",
        "\n"
      ]
    },
    {
      "cell_type": "code",
      "metadata": {
        "id": "G_X2qpYuatgH"
      },
      "source": [
        "#FOR METHOD 2 ,copy the confif file to the data folder \n",
        "!cp /content/models/research/object_detection/samples/configs/ssd_mobilenet_v2_coco.config /mydrive/customTF1/data/"
      ],
      "execution_count": null,
      "outputs": []
    },
    {
      "cell_type": "markdown",
      "metadata": {
        "id": "88pz7JpMNRRK"
      },
      "source": [
        "# **15) Load Tensorboard**"
      ]
    },
    {
      "cell_type": "code",
      "metadata": {
        "id": "l-86d0AXNQp7"
      },
      "source": [
        "#load tensorboard\n",
        "%load_ext tensorboard \n",
        "%tensorboard --logdir '/content/gdrive/MyDrive/customTF1/training'"
      ],
      "execution_count": null,
      "outputs": []
    },
    {
      "cell_type": "markdown",
      "metadata": {
        "id": "tlzGrIfdAKj9"
      },
      "source": [
        "# **16) Train the model**\n",
        "\n",
        "\n",
        "\n",
        "\n"
      ]
    },
    {
      "cell_type": "markdown",
      "metadata": {
        "id": "xTzSdDMI6VS_"
      },
      "source": [
        " ## Navigate to the ***object_detection*** folder in colab vm"
      ]
    },
    {
      "cell_type": "code",
      "metadata": {
        "id": "phPW9zD0fx2k"
      },
      "source": [
        "#FOR METHOD 2 ,change directory to object_detection\n",
        "%cd /content/models/research/object_detection"
      ],
      "execution_count": null,
      "outputs": []
    },
    {
      "cell_type": "markdown",
      "metadata": {
        "id": "uBr8MVa00Et-"
      },
      "source": [
        "## Training & evaluation using model_main.py\n",
        "\n",
        "```\n",
        "Run this command from the object_detection directory\n",
        "\n",
        "PIPELINE_CONFIG_PATH={path to pipeline config file}\n",
        "MODEL_DIR={path to model directory}\n",
        "NUM_TRAIN_STEPS=50000\n",
        "SAMPLE_1_OF_N_EVAL_EXAMPLES=1\n",
        "\n",
        "!python model_main.py --pipeline_config_path=${PIPELINE_CONFIG_PATH} --model_dir=${MODEL_DIR} --num_train_steps=${NUM_TRAIN_STEPS} --sample_1_of_n_eval_examples=${SAMPLE_1_OF_N_EVAL_EXAMPLES} --alsologtostderr\n",
        "\n",
        "```\n",
        "\n",
        "\n",
        "\n",
        "where **{PIPELINE_CONFIG_PATH}** points to the pipeline config and \n",
        "**{MODEL_DIR}** points to the directory in which training checkpoints and events will be written. Note that this binary will interleave both training and evaluation.\n",
        "\n",
        "**NOTE**: For best results, you should stop the training when the loss is less than 1 if possible, else train the model until the loss does not show any significant change for a while. \n",
        "\n"
      ]
    },
    {
      "cell_type": "code",
      "metadata": {
        "id": "7LS0SBCgRuox"
      },
      "source": [
        "#For Training and Evaluation\n",
        "\n",
        "!python model_main.py --pipeline_config_path=/mydrive/customTF1/data/ssd_mobilenet_v2_coco.config --model_dir=/mydrive/customTF1/training --alsologtostderr"
      ],
      "execution_count": null,
      "outputs": []
    },
    {
      "cell_type": "markdown",
      "source": [
        "### <u>TROUBLESHOOTING</u>\n",
        "If you get a numpy error like \"Cannot convert a symbolic Tensor (cond_2/strided_slice:0) to a numpy array\" , you can fix it by downgrading your numpy version, uninstalling and installing pycocotools. Run the 3 commands below:\n",
        "\n",
        "**!pip install numpy==1.19.5**\n",
        "\n",
        "**!pip uninstall pycocotools**\n",
        "\n",
        "**!pip install pycocotools**\n"
      ],
      "metadata": {
        "id": "9VI_64ccGagk"
      }
    },
    {
      "cell_type": "markdown",
      "metadata": {
        "id": "4esHYbk_DIj_"
      },
      "source": [
        "## **RETRAINING THE MODEL** ( in case you get disconnected )\n",
        "\n",
        "\n",
        "If you get disconnected or lose your session on colab vm, you can start your training where you left off as the checkpoint is saved on your drive inside the ***training*** folder. To restart the training simply run **steps 1, 2, 6, 7, 8, 15, and 16.**\n",
        "\n",
        "Note that since we have all the files required for training like the record files,our edited pipeline config file,the labelmap file and the model checkpoint folder, therefore we do not need to create these again.\n",
        "\n",
        " We just need to make one change in our pipeline config file.\n",
        "\n",
        "Change **fine_tune_checkpoint** to where your latest trained checkpoints have been written.\n",
        "``` \n",
        "fine_tune_checkpoint: \"/mydrive/customTF1/training/model.ckpt-xxxx\" (where model.ckpt-xxxx is the latest checkpoint)\n",
        "\n",
        "```\n",
        "\n",
        "\n"
      ]
    },
    {
      "cell_type": "markdown",
      "metadata": {
        "id": "Nxn-FtdtpsTx"
      },
      "source": [
        "# **17) Test your trained model**\n",
        "\n"
      ]
    },
    {
      "cell_type": "markdown",
      "metadata": {
        "id": "uSIhCh_JQCH_"
      },
      "source": [
        "## Export inference graph\n",
        "\n",
        "Current working directory is /content/models/research/object_detection"
      ]
    },
    {
      "cell_type": "code",
      "metadata": {
        "id": "NB4JHHqHSoiq"
      },
      "source": [
        "!python export_inference_graph.py --input_type image_tensor --pipeline_config_path /mydrive/customTF1/data/ssd_mobilenet_v2_coco.config --trained_checkpoint_prefix /mydrive/customTF1/training/model.ckpt-168158 --output_directory /mydrive/customTF1/data/inference_graph"
      ],
      "execution_count": null,
      "outputs": []
    },
    {
      "cell_type": "markdown",
      "metadata": {
        "id": "FWVAC_eZxauD"
      },
      "source": [
        "## Test your trained Object Detection model on images\n",
        "\n",
        "Current working directory is /content/models/research/object_detection\n",
        "\n",
        "\n"
      ]
    },
    {
      "cell_type": "code",
      "metadata": {
        "id": "IXPqUleBLtwm"
      },
      "source": [
        "#navigate to object_detection folder\n",
        "%cd /content/models/research/object_detection"
      ],
      "execution_count": null,
      "outputs": []
    },
    {
      "cell_type": "code",
      "metadata": {
        "id": "2MqMGnynT5G3"
      },
      "source": [
        "# Different font-type for labels text.(This step is optional)\n",
        "!wget https://freefontsdownload.net/download/160187/arial.zip\n",
        "!unzip arial.zip -d .\n",
        "\n",
        "%cd utils/\n",
        "!sed -i \"s/font = ImageFont.truetype('arial.ttf', 24)/font = ImageFont.truetype('arial.ttf', 50)/\" visualization_utils.py\n",
        "%cd .."
      ],
      "execution_count": null,
      "outputs": []
    },
    {
      "cell_type": "code",
      "metadata": {
        "id": "QjeojItTPuXv"
      },
      "source": [
        "# RUNNING INFERENCE\n",
        "import numpy as np\n",
        "import os\n",
        "import cv2\n",
        "import six.moves.urllib as urllib\n",
        "import sys\n",
        "import tarfile\n",
        "import tensorflow as tf\n",
        "import zipfile\n",
        "from google.colab.patches import cv2_imshow\n",
        "from collections import defaultdict\n",
        "from io import StringIO\n",
        "import matplotlib\n",
        "import pandas as pd\n",
        "import matplotlib.pyplot as plt\n",
        "\n",
        "from PIL import Image\n",
        "\n",
        "# This is needed since the notebook is stored in the object_detection folder.\n",
        "sys.path.append(\"..\")\n",
        "from object_detection.utils import ops as utils_ops\n",
        "\n",
        "# This is needed to display the images.\n",
        "%matplotlib inline\n",
        "\n",
        "from object_detection.utils import label_map_util\n",
        "from object_detection.utils import visualization_utils as vis_util\n",
        "\n",
        "# Change these values for the model used\n",
        "num_classes = 2 # Change this value to the number of classes of the model\n",
        "IMAGE_SIZE = (12, 8) # Output display size as you want\n",
        "\n",
        "# Use images in test dir\n",
        "IMAGE_DIR = \"/mydrive/images\"\n",
        "IMAGE_PATHS = []\n",
        "for file in os.listdir(IMAGE_DIR):\n",
        "    if file.endswith(\".jpg\") or file.endswith(\".png\"):\n",
        "        IMAGE_PATHS.append(os.path.join(IMAGE_DIR, file))\n",
        "\n",
        "# Set paths to the trained model\n",
        "PATH_TO_LABELS = '/content/gdrive/MyDrive/customTF1/data/label_map.pbtxt'\n",
        "PATH_TO_CKPT = os.path.join(os.path.abspath(\"/content/gdrive/MyDrive/customTF1/data/inference_graph\"), \"frozen_inference_graph.pb\")\n",
        "\n",
        "\n",
        "# Set tensorflow graph\n",
        "detection_graph = tf.Graph()\n",
        "with detection_graph.as_default():\n",
        "    od_graph_def = tf.GraphDef()\n",
        "    with tf.gfile.GFile(PATH_TO_CKPT, 'rb') as fid:\n",
        "        serialized_graph = fid.read()\n",
        "        od_graph_def.ParseFromString(serialized_graph)\n",
        "        tf.import_graph_def(od_graph_def, name='')\n",
        "\n",
        "# Set categories\n",
        "label_map = label_map_util.load_labelmap(PATH_TO_LABELS)\n",
        "categories = label_map_util.convert_label_map_to_categories(\n",
        "    label_map, max_num_classes=num_classes, use_display_name=True)\n",
        "category_index = label_map_util.create_category_index(categories)\n",
        "\n",
        "# Convert input image to a numpy array\n",
        "def load_image_to_numpy(image):\n",
        "    (im_width, im_height) = image.size\n",
        "    return np.array(image.getdata()).reshape(\n",
        "        (im_height, im_width, 3)).astype(np.uint8)\n",
        "\n",
        "# Inference pipeline\n",
        "def run_inference(image, graph):\n",
        "    with graph.as_default():\n",
        "        with tf.Session() as sess:\n",
        "            # Get handles to input and output tensors\n",
        "            ops = tf.get_default_graph().get_operations()\n",
        "            all_tensor_names = {\n",
        "                output.name for op in ops for output in op.outputs}\n",
        "            tensor_dict = {}\n",
        "            for key in [\n",
        "                'num_detections', 'detection_boxes', 'detection_scores',\n",
        "                'detection_classes', 'detection_masks'\n",
        "            ]:\n",
        "                tensor_name = key + ':0'\n",
        "                if tensor_name in all_tensor_names:\n",
        "                    tensor_dict[key] = tf.get_default_graph().get_tensor_by_name(\n",
        "                        tensor_name)\n",
        "            if 'detection_masks' in tensor_dict:\n",
        "                # The following processing is only for single image\n",
        "                detection_boxes = tf.squeeze(\n",
        "                    tensor_dict['detection_boxes'], [0])\n",
        "                detection_masks = tf.squeeze(\n",
        "                    tensor_dict['detection_masks'], [0])\n",
        "                # Reframe is required to translate mask from box coordinates to image coordinates and fit the image size.\n",
        "                real_num_detection = tf.cast(\n",
        "                    tensor_dict['num_detections'][0], tf.int32)\n",
        "                detection_boxes = tf.slice(detection_boxes, [0, 0], [\n",
        "                                           real_num_detection, -1])\n",
        "                detection_masks = tf.slice(detection_masks, [0, 0, 0], [\n",
        "                                           real_num_detection, -1, -1])\n",
        "                detection_masks_reframed = utils_ops.reframe_box_masks_to_image_masks(\n",
        "                    detection_masks, detection_boxes, image.shape[0], image.shape[1])\n",
        "                detection_masks_reframed = tf.cast(\n",
        "                    tf.greater(detection_masks_reframed, .5), tf.uint8)\n",
        "                # Follow the convention by adding back the batch dimension\n",
        "                tensor_dict['detection_masks'] = tf.expand_dims(\n",
        "                    detection_masks_reframed, 0)\n",
        "            image_tensor = tf.get_default_graph().get_tensor_by_name('image_tensor:0')\n",
        "\n",
        "            # Run inference\n",
        "            output_dict = sess.run(tensor_dict,\n",
        "                                   feed_dict={image_tensor: np.expand_dims(image, 0)})\n",
        "\n",
        "            # all outputs are float32 numpy arrays, so convert types as appropriate\n",
        "            output_dict['num_detections'] = int(\n",
        "                output_dict['num_detections'][0])\n",
        "            output_dict['detection_classes'] = output_dict[\n",
        "                'detection_classes'][0].astype(np.uint8)\n",
        "            output_dict['detection_boxes'] = output_dict['detection_boxes'][0]\n",
        "            output_dict['detection_scores'] = output_dict['detection_scores'][0]\n",
        "            if 'detection_masks' in output_dict:\n",
        "                output_dict['detection_masks'] = output_dict['detection_masks'][0]\n",
        "    return output_dict\n",
        "\n",
        "# Run the inference for each image\n",
        "for image_path in IMAGE_PATHS:\n",
        "    image = Image.open(image_path)\n",
        "    # Conver the image to numpy array\n",
        "    image_np = load_image_to_numpy(image)\n",
        "    # Expand dimensions since the model expects images to have shape: [1, None, None, 3]\n",
        "    image_np_expanded = np.expand_dims(image_np, axis=0)\n",
        "    # Perform the interence\n",
        "    output_dict = run_inference(image_np, detection_graph)\n",
        "    # Visualize\n",
        "    vis_util.visualize_boxes_and_labels_on_image_array(\n",
        "        image_np,\n",
        "        output_dict['detection_boxes'],\n",
        "        output_dict['detection_classes'],\n",
        "        output_dict['detection_scores'],\n",
        "        category_index,\n",
        "        instance_masks=output_dict.get('detection_masks'),\n",
        "        use_normalized_coordinates=True,\n",
        "        line_thickness=20,\n",
        "        min_score_thresh=0.1)\n",
        "    plt.figure(figsize=IMAGE_SIZE, dpi=200)\n",
        "    plt.axis(\"off\")\n",
        "    plt.imshow(image_np)\n"
      ],
      "execution_count": null,
      "outputs": []
    },
    {
      "cell_type": "markdown",
      "metadata": {
        "id": "K9I6sd5yyIqT"
      },
      "source": [
        "# **18) Export ssd tflite graph**\n",
        "\n",
        "Current working directory is /content/models/research/object_detection"
      ]
    },
    {
      "cell_type": "code",
      "metadata": {
        "id": "ocwr2DwQX-uC"
      },
      "source": [
        "#Change xxxxxx in the trained_checkpoint_prefix's model.ckpt-xxxxxx to point to your latest checkpoint\n",
        "\n",
        "!python export_tflite_ssd_graph.py --pipeline_config_path /mydrive/customTF1/data/ssd_mobilenet_v2_coco.config --trained_checkpoint_prefix /mydrive/customTF1/training/model.ckpt-xxxxxx --output_directory /mydrive/customTF1/data/tflite --add_postprocessing_op=true "
      ],
      "execution_count": null,
      "outputs": []
    },
    {
      "cell_type": "markdown",
      "metadata": {
        "id": "E0A5J5o5EQxi"
      },
      "source": [
        "# **19) Convert tflite graph to tflite model**"
      ]
    },
    {
      "cell_type": "markdown",
      "metadata": {
        "id": "90O8Qn4-b69v"
      },
      "source": [
        "## Check input and output tensor names"
      ]
    },
    {
      "cell_type": "code",
      "metadata": {
        "id": "6UxEqqssUaEa"
      },
      "source": [
        "import tensorflow as tf\n",
        "gf = tf.GraphDef()   \n",
        "m_file = open('/mydrive/customTF1/data/tflite/tflite_graph.pb','rb')\n",
        "gf.ParseFromString(m_file.read())\n",
        "\n",
        "for n in gf.node:\n",
        "    print( n.name )"
      ],
      "execution_count": null,
      "outputs": []
    },
    {
      "cell_type": "markdown",
      "metadata": {
        "id": "Ts1SVpBGZ8A5"
      },
      "source": [
        "## Convert to tflite"
      ]
    },
    {
      "cell_type": "code",
      "metadata": {
        "id": "QeNjImrxmIOY"
      },
      "source": [
        "#For FLOAT \n",
        "!tflite_convert --graph_def_file /mydrive/customTF1/data/tflite/tflite_graph.pb --output_file /mydrive/customTF1/data/tflite/detect.tflite --output_format TFLITE --input_shapes 1,300,300,3 --input_arrays normalized_input_image_tensor --output_arrays 'TFLite_Detection_PostProcess','TFLite_Detection_PostProcess:1','TFLite_Detection_PostProcess:2','TFLite_Detection_PostProcess:3' --inference_type FLOAT --allow_custom_ops \n",
        "\n",
        "#FOR QUANTIZED_UINT8 \n",
        "#!tflite_convert --graph_def_file=/mydrive/customTF1/data/tflite/tflite_graph.pb --output_file=/mydrive/customTF1/data/tflite/detect.tflite --output_format=TFLITE --input_shapes=1,300,300,3 --input_arrays=normalized_input_image_tensor --output_arrays='TFLite_Detection_PostProcess','TFLite_Detection_PostProcess:1','TFLite_Detection_PostProcess:2','TFLite_Detection_PostProcess:3' --inference_type=QUANTIZED_UINT8 --default_ranges_min=0 --default_ranges_max=255 --mean_values=128 --std_dev_values=128 --change_concat_input_ranges=false --allow_custom_ops"
      ],
      "execution_count": null,
      "outputs": []
    },
    {
      "cell_type": "markdown",
      "metadata": {
        "id": "vohoHMVU9Agr"
      },
      "source": [
        "# **20) Create TFLite with metadata**\n"
      ]
    },
    {
      "cell_type": "code",
      "metadata": {
        "id": "dTbqhUlAGab0"
      },
      "source": [
        "pip install tflite_support_nightly"
      ],
      "execution_count": null,
      "outputs": []
    },
    {
      "cell_type": "code",
      "metadata": {
        "id": "OJ-wVQVJJKvu"
      },
      "source": [
        "%cd /mydrive/customTF1/data/\n",
        "%cd tflite/\n",
        "!mkdir tflite_with_metadata\n",
        "%cd .."
      ],
      "execution_count": null,
      "outputs": []
    },
    {
      "cell_type": "code",
      "metadata": {
        "id": "qfvqgQJtGuHX"
      },
      "source": [
        "from tflite_support.metadata_writers import object_detector\n",
        "from tflite_support.metadata_writers import writer_utils\n",
        "from tflite_support import metadata\n",
        "import flatbuffers\n",
        "import os\n",
        "from tensorflow_lite_support.metadata import metadata_schema_py_generated as _metadata_fb\n",
        "from tensorflow_lite_support.metadata.python import metadata as _metadata\n",
        "from tensorflow_lite_support.metadata.python.metadata_writers import metadata_info\n",
        "from tensorflow_lite_support.metadata.python.metadata_writers import metadata_writer\n",
        "from tensorflow_lite_support.metadata.python.metadata_writers import writer_utils\n",
        "\n",
        "ObjectDetectorWriter = object_detector.MetadataWriter\n",
        "\n",
        "_MODEL_PATH = \"/mydrive/customTF1/data/tflite/detect.tflite\"\n",
        "_LABEL_FILE = \"/mydrive/customTF1/data/labelmap.txt\"\n",
        "_SAVE_TO_PATH = \"/mydrive/customTF1/data/tflite/tflite_with_metadata/detect.tflite\"\n",
        "\n",
        "writer = ObjectDetectorWriter.create_for_inference(\n",
        "    writer_utils.load_file(_MODEL_PATH), [127.5], [127.5], [_LABEL_FILE])\n",
        "writer_utils.save_file(writer.populate(), _SAVE_TO_PATH)\n",
        "\n",
        "# Verify the populated metadata and associated files.\n",
        "displayer = metadata.MetadataDisplayer.with_model_file(_SAVE_TO_PATH)\n",
        "print(\"Metadata populated:\")\n",
        "print(displayer.get_metadata_json())\n",
        "print(\"Associated file(s) populated:\")\n",
        "print(displayer.get_packed_associated_file_list())\n",
        "\n",
        "model_meta = _metadata_fb.ModelMetadataT()\n",
        "model_meta.name = \"SSD_Detector\"\n",
        "model_meta.description = (\n",
        "    \"Identify which of a known set of objects might be present and provide \"\n",
        "    \"information about their positions within the given image or a video \"\n",
        "    \"stream.\")\n",
        "\n",
        "# Creates input info.\n",
        "input_meta = _metadata_fb.TensorMetadataT()\n",
        "input_meta.name = \"image\"\n",
        "input_meta.content = _metadata_fb.ContentT()\n",
        "input_meta.content.contentProperties = _metadata_fb.ImagePropertiesT()\n",
        "input_meta.content.contentProperties.colorSpace = (\n",
        "    _metadata_fb.ColorSpaceType.RGB)\n",
        "input_meta.content.contentPropertiesType = (\n",
        "    _metadata_fb.ContentProperties.ImageProperties)\n",
        "input_normalization = _metadata_fb.ProcessUnitT()\n",
        "input_normalization.optionsType = (\n",
        "    _metadata_fb.ProcessUnitOptions.NormalizationOptions)\n",
        "input_normalization.options = _metadata_fb.NormalizationOptionsT()\n",
        "input_normalization.options.mean = [127.5]\n",
        "input_normalization.options.std = [127.5]\n",
        "input_meta.processUnits = [input_normalization]\n",
        "input_stats = _metadata_fb.StatsT()\n",
        "input_stats.max = [255]\n",
        "input_stats.min = [0]\n",
        "input_meta.stats = input_stats\n",
        "\n",
        "# Creates outputs info.\n",
        "output_location_meta = _metadata_fb.TensorMetadataT()\n",
        "output_location_meta.name = \"location\"\n",
        "output_location_meta.description = \"The locations of the detected boxes.\"\n",
        "output_location_meta.content = _metadata_fb.ContentT()\n",
        "output_location_meta.content.contentPropertiesType = (\n",
        "    _metadata_fb.ContentProperties.BoundingBoxProperties)\n",
        "output_location_meta.content.contentProperties = (\n",
        "    _metadata_fb.BoundingBoxPropertiesT())\n",
        "output_location_meta.content.contentProperties.index = [1, 0, 3, 2]\n",
        "output_location_meta.content.contentProperties.type = (\n",
        "    _metadata_fb.BoundingBoxType.BOUNDARIES)\n",
        "output_location_meta.content.contentProperties.coordinateType = (\n",
        "    _metadata_fb.CoordinateType.RATIO)\n",
        "output_location_meta.content.range = _metadata_fb.ValueRangeT()\n",
        "output_location_meta.content.range.min = 2\n",
        "output_location_meta.content.range.max = 2\n",
        "\n",
        "output_class_meta = _metadata_fb.TensorMetadataT()\n",
        "output_class_meta.name = \"category\"\n",
        "output_class_meta.description = \"The categories of the detected boxes.\"\n",
        "output_class_meta.content = _metadata_fb.ContentT()\n",
        "output_class_meta.content.contentPropertiesType = (\n",
        "    _metadata_fb.ContentProperties.FeatureProperties)\n",
        "output_class_meta.content.contentProperties = (\n",
        "    _metadata_fb.FeaturePropertiesT())\n",
        "output_class_meta.content.range = _metadata_fb.ValueRangeT()\n",
        "output_class_meta.content.range.min = 2\n",
        "output_class_meta.content.range.max = 2\n",
        "label_file = _metadata_fb.AssociatedFileT()\n",
        "label_file.name = os.path.basename(\"labelmap.txt\")\n",
        "label_file.description = \"Label of objects that this model can recognize.\"\n",
        "label_file.type = _metadata_fb.AssociatedFileType.TENSOR_VALUE_LABELS\n",
        "output_class_meta.associatedFiles = [label_file]\n",
        "\n",
        "output_score_meta = _metadata_fb.TensorMetadataT()\n",
        "output_score_meta.name = \"score\"\n",
        "output_score_meta.description = \"The scores of the detected boxes.\"\n",
        "output_score_meta.content = _metadata_fb.ContentT()\n",
        "output_score_meta.content.contentPropertiesType = (\n",
        "    _metadata_fb.ContentProperties.FeatureProperties)\n",
        "output_score_meta.content.contentProperties = (\n",
        "    _metadata_fb.FeaturePropertiesT())\n",
        "output_score_meta.content.range = _metadata_fb.ValueRangeT()\n",
        "output_score_meta.content.range.min = 2\n",
        "output_score_meta.content.range.max = 2\n",
        "\n",
        "output_number_meta = _metadata_fb.TensorMetadataT()\n",
        "output_number_meta.name = \"number of detections\"\n",
        "output_number_meta.description = \"The number of the detected boxes.\"\n",
        "output_number_meta.content = _metadata_fb.ContentT()\n",
        "output_number_meta.content.contentPropertiesType = (\n",
        "    _metadata_fb.ContentProperties.FeatureProperties)\n",
        "output_number_meta.content.contentProperties = (\n",
        "    _metadata_fb.FeaturePropertiesT())\n",
        "\n",
        "# Creates subgraph info.\n",
        "group = _metadata_fb.TensorGroupT()\n",
        "group.name = \"detection result\"\n",
        "group.tensorNames = [\n",
        "    output_location_meta.name, output_class_meta.name,\n",
        "    output_score_meta.name\n",
        "]\n",
        "subgraph = _metadata_fb.SubGraphMetadataT()\n",
        "subgraph.inputTensorMetadata = [input_meta]\n",
        "subgraph.outputTensorMetadata = [\n",
        "    output_location_meta, output_class_meta, output_score_meta,\n",
        "    output_number_meta\n",
        "]\n",
        "subgraph.outputTensorGroups = [group]\n",
        "model_meta.subgraphMetadata = [subgraph]\n",
        "\n",
        "b = flatbuffers.Builder(0)\n",
        "b.Finish(\n",
        "    model_meta.Pack(b),\n",
        "    _metadata.MetadataPopulator.METADATA_FILE_IDENTIFIER)\n",
        "metadata_buf = b.Output()"
      ],
      "execution_count": null,
      "outputs": []
    },
    {
      "cell_type": "markdown",
      "metadata": {
        "id": "5wlA4OSmiC-t"
      },
      "source": [
        "# **CLAR Technologies** \n",
        "\n",
        "\n",
        "\n",
        "---\n",
        "\n",
        "⚫ ⭕\n",
        "\n",
        "\n",
        "\n",
        "\n",
        "\n"
      ]
    }
  ]
}